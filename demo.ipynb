{
 "cells": [
  {
   "cell_type": "markdown",
   "metadata": {},
   "source": [
    "A cute little demo showing the simplest usage of minGPT. Configured to run fine on Macbook Air in like a minute."
   ]
  },
  {
   "cell_type": "code",
   "execution_count": 11,
   "metadata": {},
   "outputs": [],
   "source": [
    "import torch\n",
    "from torch.utils.data import Dataset\n",
    "from torch.utils.data.dataloader import DataLoader\n",
    "from mingpt.utils import set_seed\n",
    "import numpy as np\n",
    "set_seed(3407)"
   ]
  },
  {
   "cell_type": "code",
   "execution_count": 2,
   "metadata": {},
   "outputs": [],
   "source": [
    "# To implement BERT, we will modify the train/test data in the following way:\n",
    "# We will reverse the input sequence as the output sequence we want the model to learn. \n",
    "# We will first replace a random x% of the tokens in the train data with a special token and have the correct tokens in the output when training\n",
    "# We will then replace a random x% of the tokens in the train data with a wrong token and have the correct tokens in the output when training"
   ]
  },
  {
   "cell_type": "code",
   "execution_count": 3,
   "metadata": {},
   "outputs": [],
   "source": [
    "import pickle\n",
    "\n",
    "class InOrderRepeatingDataset(Dataset):\n",
    "    \"\"\" \n",
    "    Dataset for the masked-language-modeling problem. E.g. for problem of length 10 with 3 characters (0,1,2), and 3 as a masking token:\n",
    "    Input: '1201201301' -> Output: '1201201201'\n",
    "    \"\"\"\n",
    "\n",
    "    def __init__(self, split, length=6, num_chars = 3, p_mask = 0.2):\n",
    "        assert split in {'train', 'test'}\n",
    "        self.split = split\n",
    "        self.length = length\n",
    "        self.num_chars = num_chars\n",
    "        self.p_mask = p_mask\n",
    "    \n",
    "    def __len__(self):\n",
    "        return 10000 # ...\n",
    "    \n",
    "    def get_vocab_size(self):\n",
    "        return self.num_chars\n",
    "    \n",
    "    def get_block_size(self):\n",
    "        # the length of the sequence that will feed into transformer, \n",
    "        # containing concatenated input and the output, but -1 because\n",
    "        # the transformer starts making predictions at the last input element\n",
    "        return self.length\n",
    "\n",
    "    def toy_language_model(self):\n",
    "        # generate a tensor of size self.length, using num_chars, following a simple correlation structure\n",
    "        # the output is the first self.length elements a randomly rotated version of {0, 1, 2, .., n-1, 0, 1, 2..., n-1, 0, 1...}\n",
    "        x = torch.cat([torch.arange(0, self.num_chars)]*(int(np.ceil((self.num_chars + self.length)/self.num_chars))))\n",
    "        start_ind = int(np.random.random() * self.num_chars)\n",
    "        return x[start_ind : start_ind+self.length]\n",
    "        \n",
    "    def __getitem__(self, idx):\n",
    "        # generate some random characters as per \n",
    "        inp = self.toy_language_model()\n",
    "        mask_rands = torch.rand(size=(self.length,)) \n",
    "        mask = mask_rands < self.p_mask\n",
    "        mask_token = self.num_chars \n",
    "        inp_masked = mask.long() * mask_token + (1 - mask.long()) * inp\n",
    "        \n",
    "        # solve the task: MLM\n",
    "        sol = inp.clone()\n",
    "        \n",
    "        return inp_masked, sol, mask"
   ]
  },
  {
   "cell_type": "code",
   "execution_count": 12,
   "metadata": {},
   "outputs": [
    {
     "name": "stdout",
     "output_type": "stream",
     "text": [
      "x y z\n",
      "-----\n",
      "1 1 0\n",
      "2 2 0\n",
      "0 0 0\n",
      "1 1 0\n",
      "2 2 0\n",
      "0 0 0\n"
     ]
    }
   ],
   "source": [
    "# print an example instance of the dataset\n",
    "train_dataset = InOrderRepeatingDataset('train', length = 6, p_mask = 0.1)\n",
    "test_dataset = InOrderRepeatingDataset('test', length = 6, p_mask = 0.1)\n",
    "x, y, z = train_dataset[0]\n",
    "print('x','y','z')\n",
    "print('-----')\n",
    "for a, b, c in zip(x,y,z):\n",
    "    print(int(a),int(b), int(c))"
   ]
  },
  {
   "cell_type": "code",
   "execution_count": 23,
   "metadata": {},
   "outputs": [
    {
     "data": {
      "text/plain": [
       "(10000, 10000)"
      ]
     },
     "execution_count": 23,
     "metadata": {},
     "output_type": "execute_result"
    }
   ],
   "source": [
    "len(train_dataset), len(test_dataset)"
   ]
  },
  {
   "cell_type": "code",
   "execution_count": 24,
   "metadata": {},
   "outputs": [
    {
     "name": "stdout",
     "output_type": "stream",
     "text": [
      "number of parameters: 0.09M\n"
     ]
    }
   ],
   "source": [
    "# create a GPT instance\n",
    "#from mingpt.model import GPT\n",
    "from mingpt.model_minBERT import BERT\n",
    "\n",
    "model_config = BERT.get_default_config()\n",
    "model_config.model_type = 'BERT-nano'\n",
    "model_config.vocab_size = train_dataset.get_vocab_size()\n",
    "model_config.block_size = train_dataset.get_block_size()\n",
    "model = BERT(model_config)"
   ]
  },
  {
   "cell_type": "code",
   "execution_count": 25,
   "metadata": {},
   "outputs": [
    {
     "name": "stdout",
     "output_type": "stream",
     "text": [
      "running on device cpu\n"
     ]
    }
   ],
   "source": [
    "# create a Trainer object\n",
    "from mingpt.trainer import Trainer\n",
    "\n",
    "train_config = Trainer.get_default_config()\n",
    "train_config.learning_rate = 5e-4 # the model we're using is so small that we can go a bit faster\n",
    "train_config.max_iters = 2000\n",
    "train_config.num_workers = 0\n",
    "trainer = Trainer(train_config, model, train_dataset)"
   ]
  },
  {
   "cell_type": "code",
   "execution_count": 26,
   "metadata": {},
   "outputs": [
    {
     "name": "stdout",
     "output_type": "stream",
     "text": [
      "1011 2980 0.33926174496644296\n",
      "1031 2997 0.3440106773440107\n"
     ]
    }
   ],
   "source": [
    "def eval_split(trainer, split, max_batches):\n",
    "    dataset = {'train':train_dataset, 'test':test_dataset}[split]\n",
    "    loader = DataLoader(dataset, batch_size=100, num_workers=0, drop_last=False)\n",
    "    corrects = torch.tensor([], dtype = torch.bool)\n",
    "    for b, (x, y, z) in enumerate(loader):\n",
    "        # b is just batch number\n",
    "        # z is the boolean mask for the batch\n",
    "        x = x.to(trainer.device)\n",
    "        y = y.to(trainer.device)\n",
    "        # isolate the input pattern alone\n",
    "        inp = x\n",
    "        sol = y\n",
    "        sol_candidate = model.generate(inp)\n",
    "        c = (sol[z] == sol_candidate[z]) \n",
    "        corrects = torch.cat([corrects, c])\n",
    "        if max_batches is not None and b+1 >= max_batches:\n",
    "            break\n",
    "    correct = len(corrects[corrects == True])\n",
    "    total = len(corrects)\n",
    "    accuracy = correct/total\n",
    "    print(correct, total, accuracy)\n",
    "    return accuracy\n",
    "\n",
    "# run a lot of examples from both train and test through the model and verify the output correctness\n",
    "with torch.no_grad():\n",
    "    train_score = eval_split(trainer, 'train', max_batches=50)\n",
    "    test_score  = eval_split(trainer, 'test',  max_batches=50)"
   ]
  },
  {
   "cell_type": "code",
   "execution_count": 27,
   "metadata": {},
   "outputs": [
    {
     "name": "stdout",
     "output_type": "stream",
     "text": [
      "1116 3044 0.36662286465177396\n",
      "iter_dt 0.00ms; iter 0: train loss 1.07765\n",
      "test accuracy: 0.36662286465177396\n",
      "2601 2957 0.8796077105174163\n",
      "iter_dt 19.54ms; iter 100: train loss 0.31073\n",
      "test accuracy: 0.8796077105174163\n",
      "2916 2922 0.997946611909651\n",
      "iter_dt 18.45ms; iter 200: train loss 0.01816\n",
      "test accuracy: 0.997946611909651\n",
      "2975 2975 1.0\n",
      "iter_dt 21.91ms; iter 300: train loss 0.00151\n",
      "test accuracy: 1.0\n",
      "2953 2962 0.9969615124915597\n",
      "iter_dt 18.67ms; iter 400: train loss 0.00024\n",
      "test accuracy: 0.9969615124915597\n",
      "2959 2961 0.9993245525160419\n",
      "iter_dt 18.68ms; iter 500: train loss 0.00013\n",
      "test accuracy: 0.9993245525160419\n",
      "2959 2959 1.0\n",
      "iter_dt 24.47ms; iter 600: train loss 0.00008\n",
      "test accuracy: 1.0\n",
      "3005 3006 0.9996673320026613\n",
      "iter_dt 25.64ms; iter 700: train loss 0.00002\n",
      "test accuracy: 0.9996673320026613\n",
      "2884 2886 0.9993069993069993\n",
      "iter_dt 21.00ms; iter 800: train loss 0.00001\n",
      "test accuracy: 0.9993069993069993\n",
      "2975 2984 0.9969839142091153\n",
      "iter_dt 18.52ms; iter 900: train loss 0.20064\n",
      "test accuracy: 0.9969839142091153\n",
      "3020 3020 1.0\n",
      "iter_dt 20.85ms; iter 1000: train loss 0.00003\n",
      "test accuracy: 1.0\n",
      "3012 3017 0.998342724560822\n",
      "iter_dt 19.91ms; iter 1100: train loss 0.00001\n",
      "test accuracy: 0.998342724560822\n",
      "2986 2986 1.0\n",
      "iter_dt 20.89ms; iter 1200: train loss 0.00001\n",
      "test accuracy: 1.0\n",
      "3003 3004 0.9996671105193076\n",
      "iter_dt 25.23ms; iter 1300: train loss 0.00002\n",
      "test accuracy: 0.9996671105193076\n",
      "2990 2992 0.9993315508021391\n",
      "iter_dt 29.00ms; iter 1400: train loss 0.00001\n",
      "test accuracy: 0.9993315508021391\n",
      "2974 2976 0.9993279569892473\n",
      "iter_dt 18.21ms; iter 1500: train loss 0.00001\n",
      "test accuracy: 0.9993279569892473\n",
      "3115 3116 0.9996790757381258\n",
      "iter_dt 32.03ms; iter 1600: train loss 0.00001\n",
      "test accuracy: 0.9996790757381258\n",
      "2963 2963 1.0\n",
      "iter_dt 19.50ms; iter 1700: train loss 0.00000\n",
      "test accuracy: 1.0\n",
      "3021 3023 0.9993384055573933\n",
      "iter_dt 19.99ms; iter 1800: train loss 0.00001\n",
      "test accuracy: 0.9993384055573933\n",
      "3082 3082 1.0\n",
      "iter_dt 22.75ms; iter 1900: train loss 0.00000\n",
      "test accuracy: 1.0\n"
     ]
    }
   ],
   "source": [
    "def batch_end_callback(trainer):\n",
    "    if trainer.iter_num % 100 == 0:\n",
    "        test_accuracy  = eval_split(trainer, 'test',  max_batches=50)\n",
    "        print(f\"iter_dt {trainer.iter_dt * 1000:.2f}ms; iter {trainer.iter_num}: train loss {trainer.loss.item():.5f}\")\n",
    "        print('test accuracy:', test_accuracy)\n",
    "trainer.set_callback('on_batch_end', batch_end_callback)\n",
    "trainer.run()"
   ]
  },
  {
   "cell_type": "code",
   "execution_count": 18,
   "metadata": {},
   "outputs": [],
   "source": [
    "# now let's perform some evaluation\n",
    "model.eval();"
   ]
  },
  {
   "cell_type": "code",
   "execution_count": 19,
   "metadata": {},
   "outputs": [
    {
     "data": {
      "text/plain": [
       "(10000, 10000)"
      ]
     },
     "execution_count": 19,
     "metadata": {},
     "output_type": "execute_result"
    }
   ],
   "source": [
    "len(train_dataset), len(test_dataset)"
   ]
  },
  {
   "cell_type": "code",
   "execution_count": 20,
   "metadata": {},
   "outputs": [
    {
     "name": "stdout",
     "output_type": "stream",
     "text": [
      "3031 3031 1.0\n",
      "3046 3046 1.0\n"
     ]
    }
   ],
   "source": []
  },
  {
   "cell_type": "code",
   "execution_count": 21,
   "metadata": {},
   "outputs": [
    {
     "name": "stdout",
     "output_type": "stream",
     "text": [
      "input sequence  : [[0, 1, 3, 0, 3, 2]]\n",
      "predicted sorted: [[0, 1, 2, 0, 1, 2]]\n",
      "gt               : [0, 1, 2, 0, 1, 2]\n",
      "matches         : True\n"
     ]
    }
   ],
   "source": [
    "# let's run a random given sequence through the model as well\n",
    "inp = torch.tensor([[0, 1, 3, 0, 3, 2]], dtype=torch.long).to(trainer.device)\n",
    "sol = torch.tensor([0, 1, 2, 0, 1, 2], dtype=torch.long)\n",
    "with torch.no_grad():\n",
    "    sol_candidate = model.generate(inp)\n",
    "print('input sequence  :', inp.tolist())\n",
    "print('predicted sorted:', sol_candidate.tolist())\n",
    "print('gt               :', sol.tolist())\n",
    "print('matches         :', bool((sol == sol_candidate).all()))"
   ]
  }
 ],
 "metadata": {
  "kernelspec": {
   "display_name": "Python 3 (ipykernel)",
   "language": "python",
   "name": "python3"
  },
  "language_info": {
   "codemirror_mode": {
    "name": "ipython",
    "version": 3
   },
   "file_extension": ".py",
   "mimetype": "text/x-python",
   "name": "python",
   "nbconvert_exporter": "python",
   "pygments_lexer": "ipython3",
   "version": "3.10.12"
  },
  "vscode": {
   "interpreter": {
    "hash": "3ad933181bd8a04b432d3370b9dc3b0662ad032c4dfaa4e4f1596c548f763858"
   }
  }
 },
 "nbformat": 4,
 "nbformat_minor": 4
}
